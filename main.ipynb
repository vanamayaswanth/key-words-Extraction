{
 "cells": [
  {
   "cell_type": "code",
   "execution_count": 1,
   "metadata": {},
   "outputs": [],
   "source": [
    "#keywords extraction using Nltk\n",
    "\n",
    "import nltk\n",
    "from nltk.corpus import stopwords\n",
    "from nltk.tokenize import word_tokenize\n",
    "from nltk.stem import PorterStemmer\n",
    "from nltk.stem import WordNetLemmatizer"
   ]
  },
  {
   "cell_type": "code",
   "execution_count": 2,
   "metadata": {},
   "outputs": [],
   "source": [
    "from rake_nltk import Rake\n",
    "rc=Rake()\n"
   ]
  },
  {
   "cell_type": "code",
   "execution_count": 5,
   "metadata": {},
   "outputs": [
    {
     "name": "stdout",
     "output_type": "stream",
     "text": [
      "['making one body advance', 'rotating black hole', 'may give rise', 'hypothetical device known', 'extensively observed phenomenon', 'widely recognized concept', 'particularly science fiction', 'forward time travel', 'backward time travel', 'another body', 'time travel', 'time travel', 'time travel', 'usually connected', 'usual sense', 'understood within', 'time machine', 'time machine', 'time machine', 'theoretical physics', 'special relativity', 'quantum mechanics', 'milliseconds compared', 'limited support', 'general relativity', 'general relativity', 'find solutions', 'different points', 'current technology', 'certain points', 'arbitrary point', '1895 novel', 'physically possible', 'travel', 'time', 'time', 'fiction', 'concept', 'possible', 'wormholes', 'wells', 'well', 'use', 'uncertain', 'typically', 'traveling', 'spacetime', 'space', 'questions', 'popularized', 'philosophy', 'person', 'perception', 'past', 'outside', 'object', 'movement', 'movement', 'idea', 'however', 'h', 'g', 'framework', 'feasible', 'feasible', 'delay', 'causality', 'analogous', 'allow', '1']\n"
     ]
    }
   ],
   "source": [
    "rc.extract_keywords_from_text(\"\"\"\n",
    "    Time travel is the concept of movement between certain points in time, analogous to movement between different points in space by an object or a person, typically with the use of a hypothetical device known as a time machine. Time travel is a widely recognized concept in philosophy and fiction, particularly science fiction. The idea of a time machine was popularized by H. G. Wells' 1895 novel The Time Machine.[1]\n",
    "\n",
    "It is uncertain if time travel to the past is physically possible, and such travel, if at all feasible, may give rise to questions of causality. Forward time travel, outside the usual sense of the perception of time, is an extensively observed phenomenon and well-understood within the framework of special relativity and general relativity. However, making one body advance or delay more than a few milliseconds compared to another body is not feasible with current technology. As for backward time travel, it is possible to find solutions in general relativity that allow for it, such as a rotating black hole. Traveling to an arbitrary point in spacetime has very limited support in theoretical physics, and is usually connected only with quantum mechanics or wormholes.\"\"\")\n",
    "\n",
    "\n",
    "keywords=rc.get_ranked_phrases()\n",
    "print(keywords)\n",
    "    "
   ]
  },
  {
   "cell_type": "code",
   "execution_count": 6,
   "metadata": {},
   "outputs": [
    {
     "name": "stdout",
     "output_type": "stream",
     "text": [
      " * Serving Flask app '__main__' (lazy loading)\n",
      " * Environment: production\n",
      "\u001b[31m   WARNING: This is a development server. Do not use it in a production deployment.\u001b[0m\n",
      "\u001b[2m   Use a production WSGI server instead.\u001b[0m\n",
      " * Debug mode: on\n"
     ]
    },
    {
     "name": "stderr",
     "output_type": "stream",
     "text": [
      " * Restarting with watchdog (windowsapi)\n"
     ]
    },
    {
     "ename": "SystemExit",
     "evalue": "1",
     "output_type": "error",
     "traceback": [
      "An exception has occurred, use %tb to see the full traceback.\n",
      "\u001b[1;31mSystemExit\u001b[0m\u001b[1;31m:\u001b[0m 1\n"
     ]
    },
    {
     "name": "stderr",
     "output_type": "stream",
     "text": [
      "d:\\Users\\YASWANTH\\anaconda3\\envs\\gr\\lib\\site-packages\\IPython\\core\\interactiveshell.py:3351: UserWarning: To exit: use 'exit', 'quit', or Ctrl-D.\n",
      "  warn(\"To exit: use 'exit', 'quit', or Ctrl-D.\", stacklevel=1)\n"
     ]
    }
   ],
   "source": [
    "#covert the model and create a flask app for the keywords to be displayed\n",
    "import flask\n",
    "app=flask.Flask(__name__)\n",
    "@app.route('/')\n",
    "def index():\n",
    "    return flask.render_template('index.html',keywords=keywords)\n",
    "app.run(debug=True)\n"
   ]
  },
  {
   "cell_type": "code",
   "execution_count": null,
   "metadata": {},
   "outputs": [],
   "source": []
  }
 ],
 "metadata": {
  "kernelspec": {
   "display_name": "Python 3.6.13 ('gr')",
   "language": "python",
   "name": "python3"
  },
  "language_info": {
   "codemirror_mode": {
    "name": "ipython",
    "version": 3
   },
   "file_extension": ".py",
   "mimetype": "text/x-python",
   "name": "python",
   "nbconvert_exporter": "python",
   "pygments_lexer": "ipython3",
   "version": "3.6.13"
  },
  "orig_nbformat": 4,
  "vscode": {
   "interpreter": {
    "hash": "90c985cc047d5a65037cfccd0e7eba3544fde910f643ecb3dc813af6d7189d16"
   }
  }
 },
 "nbformat": 4,
 "nbformat_minor": 2
}
